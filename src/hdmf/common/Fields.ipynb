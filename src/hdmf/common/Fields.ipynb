{
 "cells": [
  {
   "cell_type": "code",
   "execution_count": 1,
   "id": "0b7e0bcd",
   "metadata": {},
   "outputs": [],
   "source": [
    "from hdmf.common import ExternalResources\n",
    "# from hdmf.common import get_type_map\n",
    "from hdmf.container import AbstractContainer\n",
    "from hdmf.common import DynamicTable, Data\n",
    "from hdmf import Container\n",
    "\n",
    "\n",
    "from hdmf.build.objectmapper import *"
   ]
  },
  {
   "cell_type": "code",
   "execution_count": 2,
   "id": "4a7daf69",
   "metadata": {},
   "outputs": [
    {
     "name": "stderr",
     "output_type": "stream",
     "text": [
      "/Users/mavaylon/Research/hdmf_testing/hdmf_21/hdmf/src/hdmf/container.py:181: UserWarning: ExternalResources is experimental -- it may be removed in the future and is not guaranteed to maintain backward compatibility\n",
      "  warn(_exp_warn_msg(cls))\n"
     ]
    }
   ],
   "source": [
    "er = ExternalResources(name='example')"
   ]
  },
  {
   "cell_type": "code",
   "execution_count": 3,
   "id": "5788168d",
   "metadata": {},
   "outputs": [],
   "source": [
    "# er = ExternalResources(name='example')\n",
    "\n",
    "genotypes = DynamicTable(name='genotypes', description='My genotypes')\n",
    "genotypes.add_column(name='genotype_name', description=\"Name of genotypes\")\n",
    "genotypes.add_row(id=0, genotype_name='Rorb')\n",
    "# er.add_ref(\n",
    "#     container=genotypes,\n",
    "#     attribute='genotype_name',\n",
    "#     key='Rorb',\n",
    "#     resource_name='MGI Database',\n",
    "#     resource_uri='http://www.informatics.jax.org/',\n",
    "#     entity_id='MGI:1346434',\n",
    "#     entity_uri='http://www.informatics.jax.org/marker/MGI:1343464'\n",
    "# )"
   ]
  },
  {
   "cell_type": "code",
   "execution_count": 4,
   "id": "32ea4aee",
   "metadata": {},
   "outputs": [
    {
     "data": {
      "text/plain": [
       "(<hdmf.common.resources.Key at 0x7fae3ad17250>,\n",
       " <hdmf.common.resources.Resource at 0x7fae3c61aad0>,\n",
       " <hdmf.common.resources.Entity at 0x7fae3ad62bd0>)"
      ]
     },
     "execution_count": 4,
     "metadata": {},
     "output_type": "execute_result"
    }
   ],
   "source": [
    "er.add_ref(\n",
    "    container=genotypes,\n",
    "    attribute='description',\n",
    "    key='Rorb',\n",
    "    resource_name='MGI Database',\n",
    "    resource_uri='http://www.informatics.jax.org/',\n",
    "    entity_id='MGI:1346434',\n",
    "    entity_uri='http://www.informatics.jax.org/marker/MGI:1343464'\n",
    ")"
   ]
  },
  {
   "cell_type": "code",
   "execution_count": 5,
   "id": "23f6b1e6",
   "metadata": {},
   "outputs": [
    {
     "data": {
      "text/plain": [
       "[('5f2fdbcf-2e78-4b1b-ba7e-7c44fabcfce0', 'DynamicTable/description', '')]"
      ]
     },
     "execution_count": 5,
     "metadata": {},
     "output_type": "execute_result"
    }
   ],
   "source": [
    "er.objects.data"
   ]
  },
  {
   "cell_type": "code",
   "execution_count": 25,
   "id": "3b019eec",
   "metadata": {},
   "outputs": [],
   "source": [
    "type_map = get_type_map()\n",
    "obj_mapper = type_map.get_map(genotypes)\n",
    "spec = obj_mapper.get_attr_spec(attr_name='id')\n",
    "parent_spec = spec.parent\n",
    "parent_cls=type_map.get_dt_container_cls(data_type=parent_spec.data_type, autogen=False)\n"
   ]
  },
  {
   "cell_type": "code",
   "execution_count": 28,
   "id": "318ffd54",
   "metadata": {},
   "outputs": [
    {
     "data": {
      "text/plain": [
       "genotypes hdmf.common.table.DynamicTable at 0x140696533805264\n",
       "Fields:\n",
       "  colnames: ['genotype_name']\n",
       "  columns: (\n",
       "    genotype_name <class 'hdmf.common.table.VectorData'>\n",
       "  )\n",
       "  description: My genotypes\n",
       "  id: id <class 'hdmf.common.table.ElementIdentifiers'>"
      ]
     },
     "execution_count": 28,
     "metadata": {},
     "output_type": "execute_result"
    }
   ],
   "source": [
    "t=parent_cls(name='test',description='test')\n",
    "genotypes"
   ]
  },
  {
   "cell_type": "code",
   "execution_count": 23,
   "id": "becdeeed",
   "metadata": {},
   "outputs": [
    {
     "data": {
      "text/plain": [
       "hdmf.common.table.DynamicTable"
      ]
     },
     "execution_count": 23,
     "metadata": {},
     "output_type": "execute_result"
    }
   ],
   "source": [
    "DynamicTable"
   ]
  },
  {
   "cell_type": "code",
   "execution_count": 19,
   "id": "a2e1b392",
   "metadata": {},
   "outputs": [
    {
     "data": {
      "text/plain": [
       "{'doc': 'the namespace for the data type of this object',\n",
       " 'name': 'namespace',\n",
       " 'required': False,\n",
       " 'dtype': 'text'}"
      ]
     },
     "execution_count": 19,
     "metadata": {},
     "output_type": "execute_result"
    }
   ],
   "source": [
    "parent_spec.get_namespace_spec()"
   ]
  },
  {
   "cell_type": "code",
   "execution_count": 7,
   "id": "4d8717f2",
   "metadata": {},
   "outputs": [
    {
     "data": {
      "text/plain": [
       "<hdmf.common.table.VectorData at 0x7f9374ff0bd0>"
      ]
     },
     "execution_count": 7,
     "metadata": {},
     "output_type": "execute_result"
    }
   ],
   "source": [
    "getattr(genotypes, 'genotype_name')"
   ]
  },
  {
   "cell_type": "code",
   "execution_count": 8,
   "id": "c31cbe51",
   "metadata": {},
   "outputs": [
    {
     "name": "stderr",
     "output_type": "stream",
     "text": [
      "/Users/mavaylon/Research/hdmf_testing/hdmf_21/hdmf/src/hdmf/container.py:181: UserWarning: ExternalResources is experimental -- it may be removed in the future and is not guaranteed to maintain backward compatibility\n",
      "  warn(_exp_warn_msg(cls))\n"
     ]
    },
    {
     "data": {
      "text/plain": [
       "(<hdmf.common.resources.Key at 0x7f937503e610>,\n",
       " <hdmf.common.resources.Resource at 0x7f937503e790>,\n",
       " <hdmf.common.resources.Entity at 0x7f937503e6d0>)"
      ]
     },
     "execution_count": 8,
     "metadata": {},
     "output_type": "execute_result"
    }
   ],
   "source": [
    "er = ExternalResources('terms')\n",
    "er.add_ref(\n",
    "    container='uuid1', key='key1',\n",
    "    resource_name='resource0', resource_uri='uri0',\n",
    "    entity_id='entity_id1', entity_uri='entity1')\n",
    "# resource_list = er.resources.which(resource='resource0')"
   ]
  },
  {
   "cell_type": "code",
   "execution_count": 10,
   "id": "013b6a0b",
   "metadata": {},
   "outputs": [
    {
     "data": {
      "text/plain": [
       "(<hdmf.common.resources.Key at 0x7f937503f290>,\n",
       " <hdmf.common.resources.Resource at 0x7f937503f310>,\n",
       " <hdmf.common.resources.Entity at 0x7f937503f350>)"
      ]
     },
     "execution_count": 10,
     "metadata": {},
     "output_type": "execute_result"
    }
   ],
   "source": [
    "er.add_ref(\n",
    "            container='uuid2', key='key2',\n",
    "            resource_name='resource0', resource_uri='uri0',\n",
    "            entity_id='entity_id2', entity_uri='entity2')"
   ]
  },
  {
   "cell_type": "code",
   "execution_count": 11,
   "id": "dad86435",
   "metadata": {},
   "outputs": [
    {
     "data": {
      "text/html": [
       "<div>\n",
       "<style scoped>\n",
       "    .dataframe tbody tr th:only-of-type {\n",
       "        vertical-align: middle;\n",
       "    }\n",
       "\n",
       "    .dataframe tbody tr th {\n",
       "        vertical-align: top;\n",
       "    }\n",
       "\n",
       "    .dataframe thead th {\n",
       "        text-align: right;\n",
       "    }\n",
       "</style>\n",
       "<table border=\"1\" class=\"dataframe\">\n",
       "  <thead>\n",
       "    <tr style=\"text-align: right;\">\n",
       "      <th></th>\n",
       "      <th>resource</th>\n",
       "      <th>resource_uri</th>\n",
       "    </tr>\n",
       "  </thead>\n",
       "  <tbody>\n",
       "    <tr>\n",
       "      <th>0</th>\n",
       "      <td>resource0</td>\n",
       "      <td>uri0</td>\n",
       "    </tr>\n",
       "  </tbody>\n",
       "</table>\n",
       "</div>"
      ],
      "text/plain": [
       "    resource resource_uri\n",
       "0  resource0         uri0"
      ]
     },
     "execution_count": 11,
     "metadata": {},
     "output_type": "execute_result"
    }
   ],
   "source": [
    "er.resources.to_dataframe()"
   ]
  },
  {
   "cell_type": "code",
   "execution_count": 4,
   "id": "4d1b3c29",
   "metadata": {},
   "outputs": [
    {
     "data": {
      "text/plain": [
       "<hdmf.common.io.table.DynamicTableMap at 0x7ffd38ea7f50>"
      ]
     },
     "execution_count": 4,
     "metadata": {},
     "output_type": "execute_result"
    }
   ],
   "source": [
    "type_map = get_type_map() #This retrieves the typemap, \n",
    "# which is map between the Container and the ObjectMapper\n",
    "type_map.get_map(genotypes) #This return the ObjectMapper object for \n",
    "# the container"
   ]
  },
  {
   "cell_type": "code",
   "execution_count": 5,
   "id": "ba3a1bcb",
   "metadata": {},
   "outputs": [
    {
     "data": {
      "text/plain": [
       "'DynamicTable/description'"
      ]
     },
     "execution_count": 5,
     "metadata": {},
     "output_type": "execute_result"
    }
   ],
   "source": [
    "spec=type_map.get_map(genotypes)\n",
    "spec.get_attr_spec(attr_name='description').path"
   ]
  },
  {
   "cell_type": "code",
   "execution_count": 74,
   "id": "5d392ecb",
   "metadata": {},
   "outputs": [
    {
     "data": {
      "text/plain": [
       "'cut/here'"
      ]
     },
     "execution_count": 74,
     "metadata": {},
     "output_type": "execute_result"
    }
   ],
   "source": [
    "string = 'hello/friend/cut/here'\n",
    "import re\n",
    "cut= 'cut'\n",
    "result = re.sub(\"^.+?(?=\"+cut+\")\", \"\", string)\n",
    "result"
   ]
  },
  {
   "cell_type": "code",
   "execution_count": 62,
   "id": "8847cdc9",
   "metadata": {},
   "outputs": [
    {
     "data": {
      "text/plain": [
       "'DynamicTable'"
      ]
     },
     "execution_count": 62,
     "metadata": {},
     "output_type": "execute_result"
    }
   ],
   "source": [
    "spec.get_attr_spec(attr_name='id').parent.path"
   ]
  },
  {
   "cell_type": "code",
   "execution_count": 18,
   "id": "84c5da44",
   "metadata": {},
   "outputs": [
    {
     "data": {
      "text/plain": [
       "genotypes hdmf.common.table.DynamicTable at 0x140270881714256\n",
       "Fields:\n",
       "  colnames: ['genotype_name']\n",
       "  columns: (\n",
       "    genotype_name <class 'hdmf.common.table.VectorData'>\n",
       "  )\n",
       "  description: My genotypes\n",
       "  id: id <class 'hdmf.common.table.ElementIdentifiers'>"
      ]
     },
     "execution_count": 18,
     "metadata": {},
     "output_type": "execute_result"
    }
   ],
   "source": [
    "getattr(genotypes, 'id').get_ancestor('DynamicTable')"
   ]
  },
  {
   "cell_type": "code",
   "execution_count": 9,
   "id": "6f06dba0",
   "metadata": {},
   "outputs": [
    {
     "data": {
      "text/plain": [
       "True"
      ]
     },
     "execution_count": 9,
     "metadata": {},
     "output_type": "execute_result"
    }
   ],
   "source": [
    "isinstance(genotypes, AbstractContainer)"
   ]
  },
  {
   "cell_type": "code",
   "execution_count": 10,
   "id": "2d0019a5",
   "metadata": {},
   "outputs": [],
   "source": [
    "er = ExternalResources(name='example')\n",
    "\n",
    "data = Data(\n",
    "    name='data_name',\n",
    "    data=np.array(\n",
    "        [('Mus musculus', 9, 81.0), ('Homo sapiens', 3, 27.0)],\n",
    "        dtype=[('species', 'U14'), ('age', 'i4'), ('weight', 'f4')]\n",
    "    )\n",
    ")"
   ]
  },
  {
   "cell_type": "code",
   "execution_count": 11,
   "id": "ecc8a8be",
   "metadata": {},
   "outputs": [
    {
     "data": {
      "text/plain": [
       "<hdmf.build.objectmapper.ObjectMapper at 0x7f8ce461c390>"
      ]
     },
     "execution_count": 11,
     "metadata": {},
     "output_type": "execute_result"
    }
   ],
   "source": [
    "type_map.get_map(data)"
   ]
  },
  {
   "cell_type": "code",
   "execution_count": null,
   "id": "f205bcdc",
   "metadata": {},
   "outputs": [],
   "source": []
  },
  {
   "cell_type": "code",
   "execution_count": 11,
   "id": "d0149655",
   "metadata": {},
   "outputs": [],
   "source": [
    "from hdmf.spec import GroupSpec, AttributeSpec, DatasetSpec, SpecCatalog, SpecNamespace, NamespaceCatalog, LinkSpec\n"
   ]
  },
  {
   "cell_type": "code",
   "execution_count": null,
   "id": "cde13b59",
   "metadata": {},
   "outputs": [],
   "source": [
    "bar_spec = GroupSpec(\n",
    "            doc='A test group specification with a data type',\n",
    "            data_type_def='Bar',\n",
    "            datasets=[\n",
    "                DatasetSpec(\n",
    "                    doc='a dataset',\n",
    "                    dtype='int',\n",
    "                    name='data',\n",
    "                    attributes=[AttributeSpec(name='attr2', doc='an integer attribute', dtype='int')]\n",
    "                )\n",
    "            ],\n",
    "            attributes=[AttributeSpec(name='attr1', doc='a string attribute', dtype='text')])\n",
    "        specs = [bar_spec]\n",
    "        containers = {'Bar': Bar}\n",
    "        self.type_map = create_test_type_map(specs, containers)\n",
    "        self.spec_catalog = self.type_map.namespace_catalog.get_namespace(CORE_NAMESPACE).catalog"
   ]
  },
  {
   "cell_type": "code",
   "execution_count": 12,
   "id": "4910c943",
   "metadata": {},
   "outputs": [
    {
     "ename": "NameError",
     "evalue": "name 'self' is not defined",
     "output_type": "error",
     "traceback": [
      "\u001b[0;31m---------------------------------------------------------------------------\u001b[0m",
      "\u001b[0;31mNameError\u001b[0m                                 Traceback (most recent call last)",
      "\u001b[0;32m<ipython-input-12-177fa58b6e94>\u001b[0m in \u001b[0;36m<module>\u001b[0;34m\u001b[0m\n\u001b[1;32m      1\u001b[0m baz_spec = GroupSpec('A test extension with no Container class',\n\u001b[0;32m----> 2\u001b[0;31m                      \u001b[0mdata_type_def\u001b[0m\u001b[0;34m=\u001b[0m\u001b[0;34m'Baz'\u001b[0m\u001b[0;34m,\u001b[0m \u001b[0mdata_type_inc\u001b[0m\u001b[0;34m=\u001b[0m\u001b[0mself\u001b[0m\u001b[0;34m.\u001b[0m\u001b[0mbar_spec\u001b[0m\u001b[0;34m,\u001b[0m\u001b[0;34m\u001b[0m\u001b[0;34m\u001b[0m\u001b[0m\n\u001b[0m\u001b[1;32m      3\u001b[0m                      attributes=[AttributeSpec('attr3', 'a float attribute', 'float'),\n\u001b[1;32m      4\u001b[0m                                  AttributeSpec('attr4', 'another float attribute', 'float')])\n",
      "\u001b[0;31mNameError\u001b[0m: name 'self' is not defined"
     ]
    }
   ],
   "source": [
    "baz_spec = GroupSpec('A test extension with no Container class',\n",
    "                     data_type_def='Baz', data_type_inc=self.bar_spec,\n",
    "                     attributes=[AttributeSpec('attr3', 'a float attribute', 'float'),\n",
    "                                 AttributeSpec('attr4', 'another float attribute', 'float')])\n"
   ]
  },
  {
   "cell_type": "code",
   "execution_count": null,
   "id": "7b74e8dc",
   "metadata": {},
   "outputs": [],
   "source": []
  }
 ],
 "metadata": {
  "kernelspec": {
   "display_name": "Python 3",
   "language": "python",
   "name": "python3"
  },
  "language_info": {
   "codemirror_mode": {
    "name": "ipython",
    "version": 3
   },
   "file_extension": ".py",
   "mimetype": "text/x-python",
   "name": "python",
   "nbconvert_exporter": "python",
   "pygments_lexer": "ipython3",
   "version": "3.7.10"
  }
 },
 "nbformat": 4,
 "nbformat_minor": 5
}
