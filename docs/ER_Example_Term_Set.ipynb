{
 "cells": [
  {
   "cell_type": "code",
   "execution_count": 1,
   "id": "2c85f213",
   "metadata": {},
   "outputs": [],
   "source": [
    "from hdmf.common import ExternalResources\n",
    "from hdmf.common import DynamicTable, VectorData\n",
    "\n",
    "\n",
    "from pynert import TermSet\n",
    "\n",
    "import numpy as np\n",
    "from pynwb import NWBFile, TimeSeries, NWBHDF5IO\n",
    "from pynwb import get_type_map as tm\n",
    "from pynwb.epoch import TimeIntervals\n",
    "from pynwb.file import Subject\n",
    "from pynwb.behavior import SpatialSeries, Position\n",
    "from datetime import datetime\n",
    "from dateutil import tz"
   ]
  },
  {
   "cell_type": "markdown",
   "id": "9ec81c76",
   "metadata": {},
   "source": [
    "## Validate Data with a TermSet"
   ]
  },
  {
   "cell_type": "code",
   "execution_count": 2,
   "id": "e8c73d53",
   "metadata": {},
   "outputs": [],
   "source": [
    "terms = TermSet(name='Species_TermSet', term_schema_path='/Users/mavaylon/Research/NWB/term_set.yaml')"
   ]
  },
  {
   "cell_type": "code",
   "execution_count": 3,
   "id": "c3b7d286",
   "metadata": {},
   "outputs": [],
   "source": [
    "col1 = VectorData(\n",
    "    name='species',\n",
    "    description='...',\n",
    "    data=['Homo sapiens', 'Mus musculus', 'Rattus norvegicus'],\n",
    "    term_set=terms,\n",
    "    validate=True\n",
    ")\n",
    "species = DynamicTable(name='species', description='My species', columns=[col1],)"
   ]
  },
  {
   "cell_type": "code",
   "execution_count": 4,
   "id": "00dc949d",
   "metadata": {},
   "outputs": [
    {
     "data": {
      "text/plain": [
       "['Homo sapiens', 'Mus musculus']"
      ]
     },
     "execution_count": 4,
     "metadata": {},
     "output_type": "execute_result"
    }
   ],
   "source": [
    "col1.data # notice that the data stored is not the raw data, but the data that was confirmed to be in the termset"
   ]
  },
  {
   "cell_type": "code",
   "execution_count": 5,
   "id": "94845f43",
   "metadata": {},
   "outputs": [
    {
     "data": {
      "text/plain": [
       "['Rattus norvegicus']"
      ]
     },
     "execution_count": 5,
     "metadata": {},
     "output_type": "execute_result"
    }
   ],
   "source": [
    "col1.missing_data # you can access the missing data as such"
   ]
  },
  {
   "cell_type": "code",
   "execution_count": 6,
   "id": "64971773",
   "metadata": {},
   "outputs": [
    {
     "data": {
      "text/plain": [
       "['Homo sapiens', 'Mus musculus', 'Rattus norvegicus']"
      ]
     },
     "execution_count": 6,
     "metadata": {},
     "output_type": "execute_result"
    }
   ],
   "source": [
    "col1.raw_data"
   ]
  },
  {
   "cell_type": "markdown",
   "id": "7d2f6a84",
   "metadata": {},
   "source": [
    "## Setup NWB file"
   ]
  },
  {
   "cell_type": "code",
   "execution_count": 7,
   "id": "404c9779",
   "metadata": {},
   "outputs": [],
   "source": [
    "session_start_time = datetime(2018, 4, 25, 2, 30, 3, tzinfo=tz.gettz(\"US/Pacific\"))\n",
    "\n",
    "nwbfile = NWBFile(\n",
    "    session_description=\"Mouse exploring an open field\",  # required\n",
    "    identifier=\"Mouse5_Day3\",  # required\n",
    "    session_start_time=session_start_time,  # required\n",
    "    session_id=\"session_1234\",  # optional\n",
    "    experimenter=[\"Dichter, Benjamin K.\", \"Smith, Alex\"],  # optional\n",
    "    lab=\"My Lab Name\",  # optional\n",
    "    institution=\"University of My Institution\",  # optional\n",
    "    related_publications=\"DOI:10.1016/j.neuron.2016.12.011\",  # optional\n",
    ")"
   ]
  },
  {
   "cell_type": "code",
   "execution_count": 8,
   "id": "145e0433",
   "metadata": {},
   "outputs": [],
   "source": [
    "nwbfile.subject = Subject(\n",
    "    subject_id=\"001\",\n",
    "    age=\"P90D\",\n",
    "    description=\"mouse 5\",\n",
    "    species=\"Mus musculus\",\n",
    "    sex=\"M\",\n",
    ")"
   ]
  },
  {
   "cell_type": "code",
   "execution_count": 9,
   "id": "aaadd742",
   "metadata": {},
   "outputs": [],
   "source": [
    "species = DynamicTable(name='species', description='My species')\n",
    "species.add_column(name='species', description=\"Name of species\")\n",
    "species.add_row(id=0, species='Homo sapiens')\n",
    "species.add_row(id=0, species='Mus musculus')\n",
    "species.add_row(id=0, species='Rattus norvegicus')"
   ]
  },
  {
   "cell_type": "code",
   "execution_count": 10,
   "id": "a3f40c76",
   "metadata": {
    "scrolled": true
   },
   "outputs": [],
   "source": [
    "nwbfile.add_acquisition(species)"
   ]
  },
  {
   "cell_type": "code",
   "execution_count": 11,
   "id": "519697ee",
   "metadata": {},
   "outputs": [
    {
     "data": {
      "text/plain": [
       "'8064dd07-3e62-4aed-bdfc-926575552a81'"
      ]
     },
     "execution_count": 11,
     "metadata": {},
     "output_type": "execute_result"
    }
   ],
   "source": [
    "nwbfile.object_id"
   ]
  },
  {
   "cell_type": "markdown",
   "id": "b7246fdb",
   "metadata": {},
   "source": [
    "## Add ExternalResources using a TermSet"
   ]
  },
  {
   "cell_type": "code",
   "execution_count": 12,
   "id": "99f96cc5",
   "metadata": {},
   "outputs": [
    {
     "name": "stderr",
     "output_type": "stream",
     "text": [
      "/Users/mavaylon/Research/NWB/hdmf/src/hdmf/container.py:189: UserWarning: ExternalResources is experimental -- it may be removed in the future and is not guaranteed to maintain backward compatibility\n",
      "  warn(_exp_warn_msg(cls))\n"
     ]
    }
   ],
   "source": [
    "er = ExternalResources(name=nwbfile.identifier, type_map=tm()) \n",
    "# using the nwbfile.identifier for the ER name to track of the corresponding nwbfile using this instance of ER"
   ]
  },
  {
   "cell_type": "code",
   "execution_count": 13,
   "id": "c6d3d012",
   "metadata": {},
   "outputs": [],
   "source": [
    "terms = TermSet(name='Species_TermSet', term_schema_path='/Users/mavaylon/Research/NWB/term_set.yaml')"
   ]
  },
  {
   "cell_type": "code",
   "execution_count": 14,
   "id": "0f1faa83",
   "metadata": {},
   "outputs": [
    {
     "data": {
      "text/plain": [
       "{'Missing Values in TermSet': ['Rattus norvegicus']}"
      ]
     },
     "execution_count": 14,
     "metadata": {},
     "output_type": "execute_result"
    }
   ],
   "source": [
    "er.add_ref_term_set(object_container=nwbfile,\n",
    "                    container=species,\n",
    "                    attribute='species',\n",
    "                    term_set=terms,\n",
    "                    resource_name='NCBI_TAX'\n",
    "                   ) \n",
    "# This method will return the terms that were not added to ER due to the term being missing in the termset"
   ]
  },
  {
   "cell_type": "code",
   "execution_count": 15,
   "id": "2a0ab99f",
   "metadata": {},
   "outputs": [
    {
     "data": {
      "text/html": [
       "<div>\n",
       "<style scoped>\n",
       "    .dataframe tbody tr th:only-of-type {\n",
       "        vertical-align: middle;\n",
       "    }\n",
       "\n",
       "    .dataframe tbody tr th {\n",
       "        vertical-align: top;\n",
       "    }\n",
       "\n",
       "    .dataframe thead th {\n",
       "        text-align: right;\n",
       "    }\n",
       "</style>\n",
       "<table border=\"1\" class=\"dataframe\">\n",
       "  <thead>\n",
       "    <tr style=\"text-align: right;\">\n",
       "      <th></th>\n",
       "      <th>objects_idx</th>\n",
       "      <th>object_container_id</th>\n",
       "      <th>object_id</th>\n",
       "      <th>relative_path</th>\n",
       "      <th>field</th>\n",
       "      <th>keys_idx</th>\n",
       "      <th>key</th>\n",
       "      <th>resources_idx</th>\n",
       "      <th>resource</th>\n",
       "      <th>resource_uri</th>\n",
       "      <th>entities_idx</th>\n",
       "      <th>entity_id</th>\n",
       "      <th>entity_uri</th>\n",
       "    </tr>\n",
       "  </thead>\n",
       "  <tbody>\n",
       "    <tr>\n",
       "      <th>0</th>\n",
       "      <td>0</td>\n",
       "      <td>8064dd07-3e62-4aed-bdfc-926575552a81</td>\n",
       "      <td>91569345-6bdf-475b-a4ac-44419adc3687</td>\n",
       "      <td></td>\n",
       "      <td></td>\n",
       "      <td>0</td>\n",
       "      <td>Homo sapiens</td>\n",
       "      <td>0</td>\n",
       "      <td>NCBI_TAX</td>\n",
       "      <td>https://www.ncbi.nlm.nih.gov/Taxonomy/Browser/...</td>\n",
       "      <td>0</td>\n",
       "      <td>NCBI_TAX:9606</td>\n",
       "      <td>https://www.ncbi.nlm.nih.gov/Taxonomy/Browser/...</td>\n",
       "    </tr>\n",
       "    <tr>\n",
       "      <th>1</th>\n",
       "      <td>0</td>\n",
       "      <td>8064dd07-3e62-4aed-bdfc-926575552a81</td>\n",
       "      <td>91569345-6bdf-475b-a4ac-44419adc3687</td>\n",
       "      <td></td>\n",
       "      <td></td>\n",
       "      <td>1</td>\n",
       "      <td>Mus musculus</td>\n",
       "      <td>0</td>\n",
       "      <td>NCBI_TAX</td>\n",
       "      <td>https://www.ncbi.nlm.nih.gov/Taxonomy/Browser/...</td>\n",
       "      <td>1</td>\n",
       "      <td>NCBI_TAX:10090</td>\n",
       "      <td>https://www.ncbi.nlm.nih.gov/Taxonomy/Browser/...</td>\n",
       "    </tr>\n",
       "  </tbody>\n",
       "</table>\n",
       "</div>"
      ],
      "text/plain": [
       "   objects_idx                   object_container_id  \\\n",
       "0            0  8064dd07-3e62-4aed-bdfc-926575552a81   \n",
       "1            0  8064dd07-3e62-4aed-bdfc-926575552a81   \n",
       "\n",
       "                              object_id relative_path field  keys_idx  \\\n",
       "0  91569345-6bdf-475b-a4ac-44419adc3687                             0   \n",
       "1  91569345-6bdf-475b-a4ac-44419adc3687                             1   \n",
       "\n",
       "            key  resources_idx  resource  \\\n",
       "0  Homo sapiens              0  NCBI_TAX   \n",
       "1  Mus musculus              0  NCBI_TAX   \n",
       "\n",
       "                                        resource_uri  entities_idx  \\\n",
       "0  https://www.ncbi.nlm.nih.gov/Taxonomy/Browser/...             0   \n",
       "1  https://www.ncbi.nlm.nih.gov/Taxonomy/Browser/...             1   \n",
       "\n",
       "        entity_id                                         entity_uri  \n",
       "0   NCBI_TAX:9606  https://www.ncbi.nlm.nih.gov/Taxonomy/Browser/...  \n",
       "1  NCBI_TAX:10090  https://www.ncbi.nlm.nih.gov/Taxonomy/Browser/...  "
      ]
     },
     "execution_count": 15,
     "metadata": {},
     "output_type": "execute_result"
    }
   ],
   "source": [
    "er.to_dataframe()"
   ]
  },
  {
   "cell_type": "markdown",
   "id": "4bf6e668",
   "metadata": {},
   "source": [
    "## Add ER regularly"
   ]
  },
  {
   "cell_type": "code",
   "execution_count": 16,
   "id": "38b1f5a9",
   "metadata": {},
   "outputs": [
    {
     "name": "stderr",
     "output_type": "stream",
     "text": [
      "/Users/mavaylon/Research/NWB/hdmf/src/hdmf/container.py:189: UserWarning: ExternalResources is experimental -- it may be removed in the future and is not guaranteed to maintain backward compatibility\n",
      "  warn(_exp_warn_msg(cls))\n"
     ]
    }
   ],
   "source": [
    "er = ExternalResources(name=nwbfile.identifier, type_map=tm()) "
   ]
  },
  {
   "cell_type": "code",
   "execution_count": 17,
   "id": "b6e47a56",
   "metadata": {},
   "outputs": [
    {
     "data": {
      "text/plain": [
       "(<hdmf.common.resources.Key at 0x11dd8b910>,\n",
       " <hdmf.common.resources.Resource at 0x11dd8bcd0>,\n",
       " <hdmf.common.resources.Entity at 0x11dd8b400>)"
      ]
     },
     "execution_count": 17,
     "metadata": {},
     "output_type": "execute_result"
    }
   ],
   "source": [
    "er.add_ref(\n",
    "    container=nwbfile.subject,\n",
    "    attribute='species',\n",
    "    key='Mus musculus',\n",
    "    resource_name='NCBI_Taxonomy',\n",
    "    resource_uri='https://www.ncbi.nlm.nih.gov/taxonomy',\n",
    "    entity_id='NCBI:txid10090',\n",
    "    entity_uri='https://www.ncbi.nlm.nih.gov/Taxonomy/Browser/wwwtax.cgi?id=10090'\n",
    ")\n",
    "\n",
    "er.add_ref(\n",
    "    container=nwbfile,\n",
    "    attribute=\"experimenter\",\n",
    "    key=\"Dichter, Benjamin K.\",\n",
    "    resource_name=\"ORCID\",\n",
    "    resource_uri=\"https://orcid.org/\",\n",
    "    entity_id=\"0000-0001-5725-6910\",\n",
    "    entity_uri=\"https://orcid.org/0000-0001-5725-6910\",\n",
    ")\n"
   ]
  },
  {
   "cell_type": "markdown",
   "id": "3661cbd5",
   "metadata": {},
   "source": [
    "## Write NWB file and ER separately "
   ]
  },
  {
   "cell_type": "code",
   "execution_count": 18,
   "id": "0035bf90",
   "metadata": {},
   "outputs": [],
   "source": [
    "io = NWBHDF5IO(\"NWBfile_ER_Example.nwb\", mode=\"w\")\n",
    "io.write(nwbfile)\n",
    "io.close()"
   ]
  },
  {
   "cell_type": "code",
   "execution_count": 19,
   "id": "fe584e99",
   "metadata": {},
   "outputs": [],
   "source": [
    "# write as flat table\n",
    "er.to_flat_tsv(path='./er_example_for_nwbfile.tsv')"
   ]
  },
  {
   "cell_type": "code",
   "execution_count": 20,
   "id": "5fab068e",
   "metadata": {},
   "outputs": [],
   "source": [
    "#write as multple tsv files\n",
    "er.to_norm_tsv(path='./')"
   ]
  },
  {
   "cell_type": "markdown",
   "id": "a1ca73e8",
   "metadata": {},
   "source": [
    "## Read ER from tsv files of each table"
   ]
  },
  {
   "cell_type": "code",
   "execution_count": 21,
   "id": "b264f1e9",
   "metadata": {},
   "outputs": [
    {
     "name": "stderr",
     "output_type": "stream",
     "text": [
      "/Users/mavaylon/Research/NWB/hdmf/src/hdmf/container.py:189: UserWarning: ExternalResources is experimental -- it may be removed in the future and is not guaranteed to maintain backward compatibility\n",
      "  warn(_exp_warn_msg(cls))\n",
      "/Users/mavaylon/Research/NWB/hdmf/src/hdmf/container.py:189: UserWarning: ExternalResources is experimental -- it may be removed in the future and is not guaranteed to maintain backward compatibility\n",
      "  warn(_exp_warn_msg(cls))\n"
     ]
    }
   ],
   "source": [
    "er_read=er.from_norm_tsv(path='./')"
   ]
  },
  {
   "cell_type": "markdown",
   "id": "e04243eb",
   "metadata": {},
   "source": [
    "## Read ER from flat tsv"
   ]
  },
  {
   "cell_type": "code",
   "execution_count": 22,
   "id": "6dfc8b56",
   "metadata": {},
   "outputs": [
    {
     "name": "stderr",
     "output_type": "stream",
     "text": [
      "/Users/mavaylon/Research/NWB/hdmf/src/hdmf/container.py:189: UserWarning: ExternalResources is experimental -- it may be removed in the future and is not guaranteed to maintain backward compatibility\n",
      "  warn(_exp_warn_msg(cls))\n"
     ]
    }
   ],
   "source": [
    "er_read=er.from_flat_tsv(path='./er_example_for_nwbfile.tsv')"
   ]
  },
  {
   "cell_type": "markdown",
   "id": "148940b3",
   "metadata": {},
   "source": [
    "### Retrieve resources associated with an object"
   ]
  },
  {
   "cell_type": "code",
   "execution_count": 23,
   "id": "0b33a1e8",
   "metadata": {},
   "outputs": [
    {
     "data": {
      "text/html": [
       "<div>\n",
       "<style scoped>\n",
       "    .dataframe tbody tr th:only-of-type {\n",
       "        vertical-align: middle;\n",
       "    }\n",
       "\n",
       "    .dataframe tbody tr th {\n",
       "        vertical-align: top;\n",
       "    }\n",
       "\n",
       "    .dataframe thead th {\n",
       "        text-align: right;\n",
       "    }\n",
       "</style>\n",
       "<table border=\"1\" class=\"dataframe\">\n",
       "  <thead>\n",
       "    <tr style=\"text-align: right;\">\n",
       "      <th></th>\n",
       "      <th>keys_idx</th>\n",
       "      <th>resource_idx</th>\n",
       "      <th>entity_id</th>\n",
       "      <th>entity_uri</th>\n",
       "    </tr>\n",
       "  </thead>\n",
       "  <tbody>\n",
       "    <tr>\n",
       "      <th>0</th>\n",
       "      <td>0</td>\n",
       "      <td>0</td>\n",
       "      <td>NCBI:txid10090</td>\n",
       "      <td>https://www.ncbi.nlm.nih.gov/Taxonomy/Browser/...</td>\n",
       "    </tr>\n",
       "  </tbody>\n",
       "</table>\n",
       "</div>"
      ],
      "text/plain": [
       "   keys_idx  resource_idx       entity_id  \\\n",
       "0         0             0  NCBI:txid10090   \n",
       "\n",
       "                                          entity_uri  \n",
       "0  https://www.ncbi.nlm.nih.gov/Taxonomy/Browser/...  "
      ]
     },
     "execution_count": 23,
     "metadata": {},
     "output_type": "execute_result"
    }
   ],
   "source": [
    "# Let's retrieve all external references associated with the Subject species\n",
    "er_read.get_object_resources(object_container=nwbfile, container=nwbfile.subject, relative_path='Subject/species')"
   ]
  },
  {
   "cell_type": "code",
   "execution_count": null,
   "id": "315fe234",
   "metadata": {},
   "outputs": [],
   "source": []
  }
 ],
 "metadata": {
  "kernelspec": {
   "display_name": "Python 3 (ipykernel)",
   "language": "python",
   "name": "python3"
  },
  "language_info": {
   "codemirror_mode": {
    "name": "ipython",
    "version": 3
   },
   "file_extension": ".py",
   "mimetype": "text/x-python",
   "name": "python",
   "nbconvert_exporter": "python",
   "pygments_lexer": "ipython3",
   "version": "3.9.16"
  }
 },
 "nbformat": 4,
 "nbformat_minor": 5
}
