{
 "cells": [
  {
   "cell_type": "code",
   "execution_count": 1,
   "id": "4f545fce",
   "metadata": {},
   "outputs": [],
   "source": [
    "from hdmf.backends.io import HDMFIO\n",
    "from hdmf.build import BuildManager, GroupBuilder, DatasetBuilder, TypeMap\n",
    "import pandas as pd\n",
    "from hdmf.common import ExternalResources, Data\n",
    "import numpy as np\n",
    "import json\n",
    "from hdmf.backends.json import JSONIO\n",
    "from hdmf.common.resources import KeyTable\n",
    "from pprint import pprint"
   ]
  },
  {
   "cell_type": "code",
   "execution_count": 2,
   "id": "7f447891",
   "metadata": {},
   "outputs": [
    {
     "name": "stderr",
     "output_type": "stream",
     "text": [
      "/Users/mavaylon/Research/NWB/hdmf/src/hdmf/container.py:187: UserWarning: ExternalResources is experimental -- it may be removed in the future and is not guaranteed to maintain backward compatibility\n",
      "  warn(_exp_warn_msg(cls))\n"
     ]
    }
   ],
   "source": [
    "er = ExternalResources(name='example')\n",
    "# Add a species dataset with 2 keys\n",
    "data1 = Data(\n",
    "    name='data_name',\n",
    "    data=np.array(\n",
    "        [('Mus musculus', 9, 81.0), ('Homo sapiens', 3, 27.0)],\n",
    "        dtype=[('species', 'U14'), ('age', 'i4'), ('weight', 'f4')]\n",
    "    )\n",
    ")\n",
    "k1, r1, e1 = er.add_ref(\n",
    "    container=data1,\n",
    "    field='species',\n",
    "    key='Mus musculus',\n",
    "    resource_name='NCBI_Taxonomy',\n",
    "    resource_uri='https://www.ncbi.nlm.nih.gov/taxonomy',\n",
    "    entity_id='NCBI:txid10090',\n",
    "    entity_uri='https://www.ncbi.nlm.nih.gov/Taxonomy/Browser/wwwtax.cgi?id=10090'\n",
    ")"
   ]
  },
  {
   "cell_type": "code",
   "execution_count": 5,
   "id": "26399a4b",
   "metadata": {},
   "outputs": [],
   "source": [
    "path = 'er.json'\n",
    "with JSONIO(source=path, type_map=er.type_map) as io:\n",
    "    io.write(er)"
   ]
  },
  {
   "cell_type": "code",
   "execution_count": 6,
   "id": "edc7864c",
   "metadata": {},
   "outputs": [],
   "source": [
    "with JSONIO(source=path, type_map=er.type_map) as io:\n",
    "    erd=io.read_to_dict(path='er.json')\n",
    "    er=io.create_er(name='er', path='er.json')"
   ]
  },
  {
   "cell_type": "code",
   "execution_count": 11,
   "id": "f6e19a63",
   "metadata": {},
   "outputs": [
    {
     "data": {
      "text/plain": [
       "er hdmf.common.resources.ExternalResources at 0x140440258256560\n",
       "Fields:\n",
       "  entities: entities <class 'hdmf.common.resources.EntityTable'>\n",
       "  keys: keys <class 'hdmf.common.resources.KeyTable'>\n",
       "  object_keys: object_keys <class 'hdmf.common.resources.ObjectKeyTable'>\n",
       "  objects: objects <class 'hdmf.common.resources.ObjectTable'>\n",
       "  resources: resources <class 'hdmf.common.resources.ResourceTable'>"
      ]
     },
     "execution_count": 11,
     "metadata": {},
     "output_type": "execute_result"
    }
   ],
   "source": [
    "er"
   ]
  },
  {
   "cell_type": "code",
   "execution_count": null,
   "id": "21c85070",
   "metadata": {},
   "outputs": [],
   "source": []
  },
  {
   "cell_type": "code",
   "execution_count": null,
   "id": "7548fa1e",
   "metadata": {},
   "outputs": [],
   "source": []
  },
  {
   "cell_type": "code",
   "execution_count": 9,
   "id": "1e3aa09a",
   "metadata": {},
   "outputs": [],
   "source": [
    "# manager= BuildManager(type_map=er.type_map)\n",
    "# pprint(manager.build(er, root=True))"
   ]
  },
  {
   "cell_type": "code",
   "execution_count": 9,
   "id": "12086c54",
   "metadata": {},
   "outputs": [
    {
     "name": "stdout",
     "output_type": "stream",
     "text": [
      "{'data_type': 'ExternalResources',\n",
      " 'entities': {'attributes': {'data_type': 'Data',\n",
      "                             'namespace': 'hdmf-common',\n",
      "                             'object_id': 'ad25c23d-9178-4a01-957e-196914d842c7'},\n",
      "              'data': [[0,\n",
      "                        0,\n",
      "                        'NCBI:txid10090',\n",
      "                        'https://www.ncbi.nlm.nih.gov/Taxonomy/Browser/wwwtax.cgi?id=10090']]},\n",
      " 'keys': {'attributes': {'data_type': 'Data',\n",
      "                         'namespace': 'hdmf-common',\n",
      "                         'object_id': '89e765a1-6d0c-4947-ab6b-da0597ec6317'},\n",
      "          'data': [['Mus musculus']]},\n",
      " 'namespace': 'hdmf-experimental',\n",
      " 'object_id': '0df3d714-3f08-4aac-8a00-65a835d93ba2',\n",
      " 'object_keys': {'attributes': {'data_type': 'Data',\n",
      "                                'namespace': 'hdmf-common',\n",
      "                                'object_id': '6d5bd3e9-969a-4eb5-9ab2-ee32b940e1ab'},\n",
      "                 'data': [[0, 0]]},\n",
      " 'objects': {'attributes': {'data_type': 'Data',\n",
      "                            'namespace': 'hdmf-common',\n",
      "                            'object_id': 'fec94a08-1c3c-4b48-8e2a-65d0f8e0cffc'},\n",
      "             'data': [['2006f16d-6063-419e-9d43-ae77c3533890', '', 'species']]},\n",
      " 'resources': {'attributes': {'data_type': 'Data',\n",
      "                              'namespace': 'hdmf-common',\n",
      "                              'object_id': '4d8344b4-6411-480f-b7d1-d1a948f7a76f'},\n",
      "               'data': [['NCBI_Taxonomy',\n",
      "                         'https://www.ncbi.nlm.nih.gov/taxonomy']]}}\n"
     ]
    }
   ],
   "source": [
    "pprint(erd)"
   ]
  },
  {
   "cell_type": "code",
   "execution_count": 15,
   "id": "44ff1be4",
   "metadata": {},
   "outputs": [],
   "source": [
    "gd={'data_type': 'ExternalResources',\n",
    "'namespace': 'hdmf-experimental',\n",
    "'object_id': '0df3d714-3f08-4aac-8a00-65a835d93ba2',}"
   ]
  },
  {
   "cell_type": "code",
   "execution_count": 29,
   "id": "c45526da",
   "metadata": {},
   "outputs": [],
   "source": [
    "# GroupBuilder(name='er', groups=gd)"
   ]
  },
  {
   "cell_type": "code",
   "execution_count": 36,
   "id": "bd163ff7",
   "metadata": {},
   "outputs": [
    {
     "data": {
      "text/html": [
       "<div>\n",
       "<style scoped>\n",
       "    .dataframe tbody tr th:only-of-type {\n",
       "        vertical-align: middle;\n",
       "    }\n",
       "\n",
       "    .dataframe tbody tr th {\n",
       "        vertical-align: top;\n",
       "    }\n",
       "\n",
       "    .dataframe thead th {\n",
       "        text-align: right;\n",
       "    }\n",
       "</style>\n",
       "<table border=\"1\" class=\"dataframe\">\n",
       "  <thead>\n",
       "    <tr style=\"text-align: right;\">\n",
       "      <th></th>\n",
       "      <th>key</th>\n",
       "    </tr>\n",
       "  </thead>\n",
       "  <tbody>\n",
       "    <tr>\n",
       "      <th>0</th>\n",
       "      <td>Mus musculus</td>\n",
       "    </tr>\n",
       "  </tbody>\n",
       "</table>\n",
       "</div>"
      ],
      "text/plain": [
       "            key\n",
       "0  Mus musculus"
      ]
     },
     "execution_count": 36,
     "metadata": {},
     "output_type": "execute_result"
    }
   ],
   "source": [
    "KeyTable().from_dataframe(pd.DataFrame(erd['keys']['data'], columns=KeyTable().columns)).to_dataframe()"
   ]
  },
  {
   "cell_type": "code",
   "execution_count": 28,
   "id": "79e2452e",
   "metadata": {},
   "outputs": [
    {
     "data": {
      "text/plain": [
       "('key',)"
      ]
     },
     "execution_count": 28,
     "metadata": {},
     "output_type": "execute_result"
    }
   ],
   "source": [
    "KeyTable().columns"
   ]
  },
  {
   "cell_type": "code",
   "execution_count": null,
   "id": "b8260b28",
   "metadata": {},
   "outputs": [],
   "source": []
  },
  {
   "cell_type": "code",
   "execution_count": 19,
   "id": "fc5fde07",
   "metadata": {},
   "outputs": [],
   "source": [
    "from hdmf.build import BuildManager, GroupBuilder, DatasetBuilder\n"
   ]
  },
  {
   "cell_type": "code",
   "execution_count": 25,
   "id": "9601e3d1",
   "metadata": {},
   "outputs": [],
   "source": [
    "from hdmf.backends.hdf5.h5tools import HDF5IO\n",
    "from hdmf.common import get_manager\n",
    "path = 'test.nwb'\n",
    "with HDF5IO(path=path, manager=get_manager(), mode='w') as io:\n",
    "    io.write(er)"
   ]
  },
  {
   "cell_type": "code",
   "execution_count": 29,
   "id": "97249541",
   "metadata": {},
   "outputs": [
    {
     "name": "stderr",
     "output_type": "stream",
     "text": [
      "/Users/mavaylon/Research/NWB/hdmf/src/hdmf/container.py:187: UserWarning: ExternalResources is experimental -- it may be removed in the future and is not guaranteed to maintain backward compatibility\n",
      "  warn(_exp_warn_msg(cls))\n"
     ]
    }
   ],
   "source": [
    "with HDF5IO(path=path, manager=get_manager(), mode='r') as io:\n",
    "    er_file = io.read()"
   ]
  },
  {
   "cell_type": "code",
   "execution_count": 30,
   "id": "77cd4ed8",
   "metadata": {},
   "outputs": [
    {
     "data": {
      "text/plain": [
       "root hdmf.common.resources.ExternalResources at 0x140344390158944\n",
       "Fields:\n",
       "  entities: entities <class 'hdmf.common.resources.EntityTable'>\n",
       "  keys: keys <class 'hdmf.common.resources.KeyTable'>\n",
       "  object_keys: object_keys <class 'hdmf.common.resources.ObjectKeyTable'>\n",
       "  objects: objects <class 'hdmf.common.resources.ObjectTable'>\n",
       "  resources: resources <class 'hdmf.common.resources.ResourceTable'>"
      ]
     },
     "execution_count": 30,
     "metadata": {},
     "output_type": "execute_result"
    }
   ],
   "source": [
    "er_file"
   ]
  },
  {
   "cell_type": "code",
   "execution_count": null,
   "id": "a1fa8e3c",
   "metadata": {},
   "outputs": [],
   "source": []
  },
  {
   "cell_type": "code",
   "execution_count": null,
   "id": "59fd2af2",
   "metadata": {},
   "outputs": [],
   "source": []
  },
  {
   "cell_type": "code",
   "execution_count": null,
   "id": "bc251b28",
   "metadata": {},
   "outputs": [],
   "source": []
  },
  {
   "cell_type": "code",
   "execution_count": 12,
   "id": "7eabc7de",
   "metadata": {},
   "outputs": [
    {
     "name": "stderr",
     "output_type": "stream",
     "text": [
      "/Users/mavaylon/Research/NWB/hdmf/src/hdmf/container.py:187: UserWarning: NWBExternalResources is experimental -- it may be removed in the future and is not guaranteed to maintain backward compatibility\n",
      "  warn(_exp_warn_msg(cls))\n",
      "/Users/mavaylon/Research/NWB/hdmf/src/hdmf/utils.py:629: FutureWarning: ExternalResources.__init__: Using positional arguments for this method is discouraged and will be deprecated in a future major release. Please use keyword arguments to ensure future compatibility.\n",
      "  warnings.warn(msg, FutureWarning)\n",
      "/Users/mavaylon/Research/NWB/hdmf/src/hdmf/container.py:187: UserWarning: NWBExternalResources is experimental -- it may be removed in the future and is not guaranteed to maintain backward compatibility\n",
      "  warn(_exp_warn_msg(cls))\n",
      "/Users/mavaylon/Research/NWB/hdmf/src/hdmf/utils.py:629: FutureWarning: ExternalResources.__init__: Using positional arguments for this method is discouraged and will be deprecated in a future major release. Please use keyword arguments to ensure future compatibility.\n",
      "  warnings.warn(msg, FutureWarning)\n"
     ]
    },
    {
     "data": {
      "text/html": [
       "<div>\n",
       "<style scoped>\n",
       "    .dataframe tbody tr th:only-of-type {\n",
       "        vertical-align: middle;\n",
       "    }\n",
       "\n",
       "    .dataframe tbody tr th {\n",
       "        vertical-align: top;\n",
       "    }\n",
       "\n",
       "    .dataframe thead th {\n",
       "        text-align: right;\n",
       "    }\n",
       "</style>\n",
       "<table border=\"1\" class=\"dataframe\">\n",
       "  <thead>\n",
       "    <tr style=\"text-align: right;\">\n",
       "      <th></th>\n",
       "      <th>keys_idx</th>\n",
       "      <th>resource_idx</th>\n",
       "      <th>entity_id</th>\n",
       "      <th>entity_uri</th>\n",
       "    </tr>\n",
       "  </thead>\n",
       "  <tbody>\n",
       "    <tr>\n",
       "      <th>0</th>\n",
       "      <td>1</td>\n",
       "      <td>1</td>\n",
       "      <td>10090</td>\n",
       "      <td>https://www.ncbi.nlm.nih.gov/Taxonomy/Browser/...</td>\n",
       "    </tr>\n",
       "  </tbody>\n",
       "</table>\n",
       "</div>"
      ],
      "text/plain": [
       "   keys_idx  resource_idx entity_id  \\\n",
       "0         1             1     10090   \n",
       "\n",
       "                                          entity_uri  \n",
       "0  https://www.ncbi.nlm.nih.gov/Taxonomy/Browser/...  "
      ]
     },
     "execution_count": 12,
     "metadata": {},
     "output_type": "execute_result"
    }
   ],
   "source": [
    "import datetime\n",
    "from pynwb import TimeSeries, NWBHDF5IO\n",
    "from pynwb.core import DynamicTable\n",
    "\n",
    "from ndx_external_resources import ERNWBFile\n",
    "\n",
    "\n",
    "nwbfile = ERNWBFile(\n",
    "    session_description='session_description',\n",
    "    identifier='identifier',\n",
    "    session_start_time=datetime.datetime.now(datetime.timezone.utc)\n",
    ")\n",
    "\n",
    "container = TimeSeries(\n",
    "    name='test_ts',\n",
    "    data=[1, 2, 3],\n",
    "    unit='meters',\n",
    "    timestamps=[0.1, 0.2, 0.3],\n",
    ")\n",
    "nwbfile.add_acquisition(container)\n",
    "\n",
    "table = DynamicTable(name='test_table', description='test table description')\n",
    "table.add_column(name='test_col', description='test column description')\n",
    "table.add_row(test_col='Mouse')\n",
    "\n",
    "nwbfile.add_acquisition(table)\n",
    "\n",
    "nwbfile.external_resources.add_ref(\n",
    "    container=container,\n",
    "    attribute='unit',\n",
    "    key='meters',\n",
    "    resource_name='SI_Ontology',\n",
    "    resource_uri='',\n",
    "    entity_id='5',\n",
    "    entity_uri='',\n",
    ")\n",
    "\n",
    "nwbfile.external_resources.add_ref(\n",
    "    container=table,\n",
    "    attribute='test_col',\n",
    "    key='Mouse',\n",
    "    resource_name='NCBI_Taxonomy',\n",
    "    resource_uri='https://www.ncbi.nlm.nih.gov/Taxonomy/Browser/wwwtax.cgi',\n",
    "    entity_id='10090',\n",
    "    entity_uri='https://www.ncbi.nlm.nih.gov/Taxonomy/Browser/wwwtax.cgi?mode=info&id=10090',\n",
    ")\n",
    "\n",
    "path = 'test.nwb'\n",
    "with NWBHDF5IO(path, mode='w') as io:\n",
    "    io.write(nwbfile)\n",
    "    \n",
    "with NWBHDF5IO(path, mode='r', load_namespaces=True) as io:\n",
    "    read_nwbfile = io.read()\n",
    "    read_container = read_nwbfile.acquisition['test_ts']\n",
    "    read_table = read_nwbfile.acquisition['test_table']\n",
    "    df=read_nwbfile.external_resources.get_object_resources(container=table['test_col'])\n",
    "df"
   ]
  },
  {
   "cell_type": "code",
   "execution_count": null,
   "id": "2893a74a",
   "metadata": {},
   "outputs": [],
   "source": []
  }
 ],
 "metadata": {
  "kernelspec": {
   "display_name": "Python 3 (ipykernel)",
   "language": "python",
   "name": "python3"
  },
  "language_info": {
   "codemirror_mode": {
    "name": "ipython",
    "version": 3
   },
   "file_extension": ".py",
   "mimetype": "text/x-python",
   "name": "python",
   "nbconvert_exporter": "python",
   "pygments_lexer": "ipython3",
   "version": "3.9.7"
  }
 },
 "nbformat": 4,
 "nbformat_minor": 5
}
